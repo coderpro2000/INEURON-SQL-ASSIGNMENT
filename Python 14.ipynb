{
 "cells": [
  {
   "cell_type": "code",
   "execution_count": null,
   "id": "4ea52323",
   "metadata": {},
   "outputs": [],
   "source": [
    "RGBA stands for red green blue alpha. While it is sometimes described as a color space, it is actually a three-channel RGB color model supplemented with a fourth alpha channel."
   ]
  },
  {
   "cell_type": "code",
   "execution_count": null,
   "id": "6b9c70ef",
   "metadata": {},
   "outputs": [],
   "source": [
    "data = numpy.array(im) # same as .asarray\n",
    "print(\"Array dimensions: %s\"%(repr(data.shape)))\n",
    "data = data.astype(float)\n",
    "print(\"[20, 30]=%s\"%(repr(data[20, 30])))\n",
    "print(data)..."
   ]
  },
  {
   "cell_type": "code",
   "execution_count": null,
   "id": "0d5fb215",
   "metadata": {},
   "outputs": [],
   "source": [
    "The box.tuple submodule provides read-only access for the tuple userdata type. It allows, for a single tuple: selective retrieval of the field contents, retrieval of information about size, iteration over all the fields, and conversion to a Lua table. Below is a list of all box.tuple functions."
   ]
  },
  {
   "cell_type": "code",
   "execution_count": null,
   "id": "b21e06c1",
   "metadata": {},
   "outputs": [],
   "source": [
    "const img = new Image();\n",
    "img.onload = function() {\n",
    "  alert(this.width + 'x' + this.height);\n",
    "}\n",
    "img.src = 'http://www.google.com/intl/en_ALL/images/logo.gif';"
   ]
  },
  {
   "cell_type": "code",
   "execution_count": null,
   "id": "c14513d4",
   "metadata": {},
   "outputs": [],
   "source": [
    "Select a small portion of the image. Display the detail image at 100% magnification using imshow. Display the image at 1000% magnification by using the 'InitialMagnification' name-value pair argument. By default, inshow performs nearest neighbor interpolation of pixel values. The image has blocking artifacts."
   ]
  },
  {
   "cell_type": "code",
   "execution_count": null,
   "id": "3f4db975",
   "metadata": {},
   "outputs": [],
   "source": [
    "Image.save () Saves this image under the given filename. If no format is specified, the format to use is determined from the filename extension, if possible. Keyword options can be used to provide additional instructions to the writer. If a writer doesn’t recognise an option, it is silently ignored."
   ]
  },
  {
   "cell_type": "code",
   "execution_count": null,
   "id": "f473adb6",
   "metadata": {},
   "outputs": [],
   "source": [
    "Drawing Shapes on Images with Python and Pillow Pillow provides a drawing module called ImageDraw that you can use to create simple 2D graphics on your Image objects. According to Pillow's documentation, \"you can use this module to create new images, annotate or retouch existing images, and to generate graphics on the fly for web use.\""
   ]
  },
  {
   "cell_type": "code",
   "execution_count": null,
   "id": "3da0940f",
   "metadata": {},
   "outputs": [],
   "source": [
    "Object detection combines these two tasks and localizes and classifies one or more objects in an image. When a user or practitioner refers to “ object recognition “, they often mean “ object detection "
   ]
  }
 ],
 "metadata": {
  "kernelspec": {
   "display_name": "Python 3",
   "language": "python",
   "name": "python3"
  },
  "language_info": {
   "codemirror_mode": {
    "name": "ipython",
    "version": 3
   },
   "file_extension": ".py",
   "mimetype": "text/x-python",
   "name": "python",
   "nbconvert_exporter": "python",
   "pygments_lexer": "ipython3",
   "version": "3.8.8"
  }
 },
 "nbformat": 4,
 "nbformat_minor": 5
}
