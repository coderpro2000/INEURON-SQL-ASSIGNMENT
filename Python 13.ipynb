{
 "cells": [
  {
   "cell_type": "code",
   "execution_count": null,
   "id": "4d42fe1f",
   "metadata": {},
   "outputs": [],
   "source": [
    "CSV file can’t perform operations on data while Excel can perform operations on the data. CSV files are faster and also consumes less memory whereas Excel consumes more memory while importing data."
   ]
  },
  {
   "cell_type": "code",
   "execution_count": null,
   "id": "a9d2d5aa",
   "metadata": {},
   "outputs": [],
   "source": [
    "writer() This function in csv module returns a writer object that converts data into a delimited string and stores in a file object. The function needs a file object with write permission as a parameter. Every row written in the file issues a newline character. To prevent additional space between lines, newline parameter is set to "
   ]
  },
  {
   "cell_type": "code",
   "execution_count": null,
   "id": "426543ad",
   "metadata": {},
   "outputs": [],
   "source": [
    "r for reading – The file pointer is placed at the beginning of the file. This is the default mode. r+ Opens a file for both reading and writing. The file pointer will be at the beginning of the file. w Opens a file for writing only. Overwrites the file if the file exists."
   ]
  },
  {
   "cell_type": "code",
   "execution_count": null,
   "id": "f6305f98",
   "metadata": {},
   "outputs": [],
   "source": [
    "The writerow () method for Writer objects takes a list argument. Each value in the list is placed in its own cell in the output CSV file. The return value of writerow () is the number of characters written to the file for that row (including newline characters). This code produces an output.csv file that looks like this:"
   ]
  },
  {
   "cell_type": "code",
   "execution_count": null,
   "id": "3c853b76",
   "metadata": {},
   "outputs": [],
   "source": [
    "The delimiter is the character that appears between cells on a row. By default, the delimiter for a CSV file is a comma. The line terminator is the character that comes at the end of a row. By default, the line terminator is a newline. You can change characters to different values by using the "
   ]
  },
  {
   "cell_type": "code",
   "execution_count": null,
   "id": "bd02e663",
   "metadata": {},
   "outputs": [],
   "source": [
    "The json.dumps function takes a Python data structure and returns it as a JSON string. structure. What is your reaction? For Python training, our top recommendation is DataCamp."
   ]
  },
  {
   "cell_type": "code",
   "execution_count": null,
   "id": "08c0c037",
   "metadata": {},
   "outputs": [],
   "source": [
    "JSON ( J ava S cript O bject N otation) is a popular data format used for representing structured data. It's common to transmit and receive data between a server and web application in JSON format. In Python, JSON exists as a string. For example: p = ' {\"name\": \"Bob\", \"languages\": [\"Python\", \"Java\"]}'."
   ]
  }
 ],
 "metadata": {
  "kernelspec": {
   "display_name": "Python 3",
   "language": "python",
   "name": "python3"
  },
  "language_info": {
   "codemirror_mode": {
    "name": "ipython",
    "version": 3
   },
   "file_extension": ".py",
   "mimetype": "text/x-python",
   "name": "python",
   "nbconvert_exporter": "python",
   "pygments_lexer": "ipython3",
   "version": "3.8.8"
  }
 },
 "nbformat": 4,
 "nbformat_minor": 5
}
