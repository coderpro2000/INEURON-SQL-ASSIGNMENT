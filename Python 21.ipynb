{
 "cells": [
  {
   "cell_type": "code",
   "execution_count": null,
   "id": "82bac1ed",
   "metadata": {},
   "outputs": [],
   "source": [
    "def timeStamped(fname, fmt='%Y-%m-%d-%H-%M-%S_{fname}'):\n",
    "  return datetime.datetime.now().strftime(fmt).format(fname=fname)\n",
    "with open(timeStamped('myfile.txt'),'w') as outf:\n",
    "  outf.write('data!')"
   ]
  },
  {
   "cell_type": "code",
   "execution_count": null,
   "id": "eb70b1c7",
   "metadata": {},
   "outputs": [],
   "source": [
    "let fileURL = dir.appendingPathComponent(file)\n",
    "do {\n",
    "  try text.write(to: fileURL, atomically: false, encoding: .utf8)\n",
    "}\n",
    "catch {}..."
   ]
  },
  {
   "cell_type": "code",
   "execution_count": null,
   "id": "0ca2edcb",
   "metadata": {},
   "outputs": [],
   "source": [
    "String time = \"Sun Jul 15 2012 12:22:00 GMT+03:00 (FLE Daylight Time)\";\n",
    "SimpleDateFormat sdf = new SimpleDateFormat(\"EEE MMM dd yyyy HH:mm:ss zzz\");\n",
    "Date date = sdf.parse(time);"
   ]
  },
  {
   "cell_type": "code",
   "execution_count": null,
   "id": "edff6fd8",
   "metadata": {},
   "outputs": [],
   "source": [
    "You can use the ls command to list the files in any directory to which you have access. For a simple directory listing, at the Unix prompt, enter: This command will list the names of all the files and directories in the current working directory. You can limit the files that are described by using fragments of filenames and wildcards."
   ]
  },
  {
   "cell_type": "code",
   "execution_count": null,
   "id": "7089604d",
   "metadata": {},
   "outputs": [],
   "source": [
    "Type the ls -R command to list all files and directories with their corresponding subdirectories down to the last file: If you have a lot of files, this can take a very long time to complete as every single file in each directory will be printed out. You can instead specify a directory to run this command in, like so: ls Downloads -R"
   ]
  },
  {
   "cell_type": "code",
   "execution_count": null,
   "id": "35c20ec1",
   "metadata": {},
   "outputs": [],
   "source": [
    "Introduction ¶ 1 Contexts and start methods ¶. Depending on the platform, multiprocessing supports three ways to start a process. ... 2 Exchanging objects between processes ¶. The Queue class is a near clone of queue.Queue. ... 3 Synchronization between processes ¶. ... 4 Sharing state between processes "
   ]
  },
  {
   "cell_type": "code",
   "execution_count": null,
   "id": "d6a06987",
   "metadata": {},
   "outputs": [],
   "source": [
    "import datetime\n",
    "\n",
    "x = datetime.datetime(2020, 5, 17)\n",
    "\n",
    "print(x)"
   ]
  },
  {
   "cell_type": "code",
   "execution_count": null,
   "id": "3051d526",
   "metadata": {},
   "outputs": [],
   "source": [
    "Date of 10000 day birthday: 17/12/2022 Date of 15000 day birthday: 25/08/2036 Date of 20000 day birthday: 04/05/2050 Date of 25000 day birthday: 11/01/2064"
   ]
  },
  {
   "cell_type": "code",
   "execution_count": null,
   "id": "b8861fbb",
   "metadata": {},
   "outputs": [],
   "source": []
  },
  {
   "cell_type": "code",
   "execution_count": null,
   "id": "3100546c",
   "metadata": {},
   "outputs": [],
   "source": []
  }
 ],
 "metadata": {
  "kernelspec": {
   "display_name": "Python 3",
   "language": "python",
   "name": "python3"
  },
  "language_info": {
   "codemirror_mode": {
    "name": "ipython",
    "version": 3
   },
   "file_extension": ".py",
   "mimetype": "text/x-python",
   "name": "python",
   "nbconvert_exporter": "python",
   "pygments_lexer": "ipython3",
   "version": "3.8.8"
  }
 },
 "nbformat": 4,
 "nbformat_minor": 5
}
